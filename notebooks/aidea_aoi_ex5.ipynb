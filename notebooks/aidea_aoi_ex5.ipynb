{
  "nbformat": 4,
  "nbformat_minor": 0,
  "metadata": {
    "colab": {
      "name": "aidea_aoi_ex5.ipynb",
      "provenance": [],
      "toc_visible": true
    },
    "kernelspec": {
      "name": "python3",
      "display_name": "Python 3"
    },
    "accelerator": "GPU"
  },
  "cells": [
    {
      "cell_type": "markdown",
      "metadata": {
        "id": "pzMudVrZev4E",
        "colab_type": "text"
      },
      "source": [
        "<table width=\"100%\" border=\"3\">\n",
        "  <tbody>\n",
        "    <tr>\n",
        "      <td ><img src=\"https://aidea-web.tw/images/web/logo_white.png\" alt=\"Aidea\" width=\"400\"/></td>\n",
        "      <td align='left'><h1>Exercise 5: Visual Recheck </h1></td>\n",
        "    </tr>\n",
        "  </tbody>\n",
        "</table>"
      ]
    },
    {
      "cell_type": "markdown",
      "metadata": {
        "id": "ZOuhb2IiDVpm",
        "colab_type": "text"
      },
      "source": [
        "# Exercise 5: Explain predictions with Grad-CAM\n",
        "https://medium.com/手寫筆記/grad-cam-introduction-d0e48eb64adb\n",
        "<img src=\"https://i.imgur.com/APqyQP9.png\">"
      ]
    },
    {
      "cell_type": "markdown",
      "metadata": {
        "id": "0qRYJynoKnbM",
        "colab_type": "text"
      },
      "source": [
        "#(A) Ensemble Method"
      ]
    },
    {
      "cell_type": "markdown",
      "metadata": {
        "id": "PsEK_x8teJlG",
        "colab_type": "text"
      },
      "source": [
        "## Step 1: Load AIdea AOI dataset"
      ]
    },
    {
      "cell_type": "code",
      "metadata": {
        "id": "wxFk8zr9B1Xm",
        "colab_type": "code",
        "colab": {
          "base_uri": "https://localhost:8080/",
          "height": 50
        },
        "outputId": "80fb8fb7-98c1-4924-f9da-a0c7bf18293c"
      },
      "source": [
        "#load AIdea AOI dataset\n",
        "from google_drive_downloader import GoogleDriveDownloader\n",
        "GoogleDriveDownloader.download_file_from_google_drive(file_id='1Arcy_6pkMwLrg05A4f8S5dRzyu4I5j8Q',dest_path='./content', unzip=True)"
      ],
      "execution_count": 1,
      "outputs": [
        {
          "output_type": "stream",
          "text": [
            "Downloading 1Arcy_6pkMwLrg05A4f8S5dRzyu4I5j8Q into ./content... Done.\n",
            "Unzipping...Done.\n"
          ],
          "name": "stdout"
        }
      ]
    },
    {
      "cell_type": "markdown",
      "metadata": {
        "id": "phPu86CAeSND",
        "colab_type": "text"
      },
      "source": [
        "## Step 2: Import python libraries"
      ]
    },
    {
      "cell_type": "code",
      "metadata": {
        "id": "OCJBD9x1Bv8n",
        "colab_type": "code",
        "colab": {
          "base_uri": "https://localhost:8080/",
          "height": 50
        },
        "outputId": "06faab44-09b0-49bb-8711-991c38a13a6e"
      },
      "source": [
        "import tensorflow as tf\n",
        "print(tf.__version__)\n",
        "print(tf.config.list_physical_devices('GPU'))"
      ],
      "execution_count": 2,
      "outputs": [
        {
          "output_type": "stream",
          "text": [
            "2.2.0\n",
            "[PhysicalDevice(name='/physical_device:GPU:0', device_type='GPU')]\n"
          ],
          "name": "stdout"
        }
      ]
    },
    {
      "cell_type": "code",
      "metadata": {
        "id": "Gl5ZMXU3S_rH",
        "colab_type": "code",
        "colab": {}
      },
      "source": [
        "import numpy as np\n",
        "import matplotlib.pyplot as plt\n",
        "%matplotlib inline"
      ],
      "execution_count": 3,
      "outputs": []
    },
    {
      "cell_type": "code",
      "metadata": {
        "id": "cLyRMQLrFUpY",
        "colab_type": "code",
        "colab": {}
      },
      "source": [
        "from tensorflow.keras import Sequential\n",
        "from tensorflow.keras.models import Model\n",
        "from tensorflow.keras.layers import Dense, Activation, Flatten\n",
        "from tensorflow.keras.layers import Input, Concatenate\n",
        "from tensorflow.keras.layers import Dropout, Flatten, Activation\n",
        "from tensorflow.keras.layers import Conv2D, MaxPooling2D\n",
        "from tensorflow.keras.optimizers import Adam,SGD,Adagrad,Adadelta,RMSprop"
      ],
      "execution_count": 4,
      "outputs": []
    },
    {
      "cell_type": "markdown",
      "metadata": {
        "id": "RITDZUvcdLRY",
        "colab_type": "text"
      },
      "source": [
        "## Step 3: Load pretrained models:\n",
        "* m1: auaoi-InceptionResNetV2\n",
        "* m2: auaoi-InceptionV3\n",
        "* m3: auaoi-Xception"
      ]
    },
    {
      "cell_type": "code",
      "metadata": {
        "colab_type": "code",
        "id": "ftC2GYFHcal_",
        "colab": {
          "base_uri": "https://localhost:8080/",
          "height": 50
        },
        "outputId": "a2854122-e7d5-4031-b605-a8bcb5132a52"
      },
      "source": [
        "#load AIdea AOI trained CNN models\n",
        "from google_drive_downloader import GoogleDriveDownloader\n",
        "GoogleDriveDownloader.download_file_from_google_drive(file_id='1sh735v1fkLU3EC-xZCIq6mmvYkKyRUq9',dest_path='./model', unzip=True)"
      ],
      "execution_count": 5,
      "outputs": [
        {
          "output_type": "stream",
          "text": [
            "Downloading 1sh735v1fkLU3EC-xZCIq6mmvYkKyRUq9 into ./model... Done.\n",
            "Unzipping...Done.\n"
          ],
          "name": "stdout"
        }
      ]
    },
    {
      "cell_type": "code",
      "metadata": {
        "id": "BGwtzDTmjb7H",
        "colab_type": "code",
        "colab": {}
      },
      "source": [
        "model_files = ['m1.h5', 'm2.h5', 'm3.h5']\n",
        "renames = ['a', 'b', 'c']\n",
        "models = []\n",
        "for file in model_files:\n",
        "  model = tf.keras.models.load_model(file)\n",
        "  models.append(model)\n"
      ],
      "execution_count": 6,
      "outputs": []
    },
    {
      "cell_type": "markdown",
      "metadata": {
        "id": "o1URIFowfHED",
        "colab_type": "text"
      },
      "source": [
        "## Step 4: read the training set"
      ]
    },
    {
      "cell_type": "code",
      "metadata": {
        "id": "pL3o453NU26h",
        "colab_type": "code",
        "colab": {
          "base_uri": "https://localhost:8080/",
          "height": 34
        },
        "outputId": "b7ff8b03-fb13-4665-fa9d-7e995a494bc6"
      },
      "source": [
        "import pandas as pd\n",
        "df_train = pd.read_csv(\"train.csv\",dtype=str)\n",
        "print(df_train.shape)"
      ],
      "execution_count": 7,
      "outputs": [
        {
          "output_type": "stream",
          "text": [
            "(2528, 2)\n"
          ],
          "name": "stdout"
        }
      ]
    },
    {
      "cell_type": "code",
      "metadata": {
        "id": "tuDemzs5VKFk",
        "colab_type": "code",
        "colab": {
          "base_uri": "https://localhost:8080/",
          "height": 195
        },
        "outputId": "afa2aef8-c433-429d-d03c-521de840f70b"
      },
      "source": [
        "df_train.head()"
      ],
      "execution_count": null,
      "outputs": [
        {
          "output_type": "execute_result",
          "data": {
            "text/html": [
              "<div>\n",
              "<style scoped>\n",
              "    .dataframe tbody tr th:only-of-type {\n",
              "        vertical-align: middle;\n",
              "    }\n",
              "\n",
              "    .dataframe tbody tr th {\n",
              "        vertical-align: top;\n",
              "    }\n",
              "\n",
              "    .dataframe thead th {\n",
              "        text-align: right;\n",
              "    }\n",
              "</style>\n",
              "<table border=\"1\" class=\"dataframe\">\n",
              "  <thead>\n",
              "    <tr style=\"text-align: right;\">\n",
              "      <th></th>\n",
              "      <th>ID</th>\n",
              "      <th>Label</th>\n",
              "    </tr>\n",
              "  </thead>\n",
              "  <tbody>\n",
              "    <tr>\n",
              "      <th>0</th>\n",
              "      <td>train_00000.png</td>\n",
              "      <td>0</td>\n",
              "    </tr>\n",
              "    <tr>\n",
              "      <th>1</th>\n",
              "      <td>train_00001.png</td>\n",
              "      <td>1</td>\n",
              "    </tr>\n",
              "    <tr>\n",
              "      <th>2</th>\n",
              "      <td>train_00002.png</td>\n",
              "      <td>1</td>\n",
              "    </tr>\n",
              "    <tr>\n",
              "      <th>3</th>\n",
              "      <td>train_00003.png</td>\n",
              "      <td>5</td>\n",
              "    </tr>\n",
              "    <tr>\n",
              "      <th>4</th>\n",
              "      <td>train_00004.png</td>\n",
              "      <td>5</td>\n",
              "    </tr>\n",
              "  </tbody>\n",
              "</table>\n",
              "</div>"
            ],
            "text/plain": [
              "                ID Label\n",
              "0  train_00000.png     0\n",
              "1  train_00001.png     1\n",
              "2  train_00002.png     1\n",
              "3  train_00003.png     5\n",
              "4  train_00004.png     5"
            ]
          },
          "metadata": {
            "tags": []
          },
          "execution_count": 12
        }
      ]
    },
    {
      "cell_type": "code",
      "metadata": {
        "id": "-cVo6Gq4FApt",
        "colab_type": "code",
        "colab": {
          "base_uri": "https://localhost:8080/",
          "height": 50
        },
        "outputId": "90ae5e08-d8a3-4ad1-8992-cccf80d1b4f4"
      },
      "source": [
        "train_num = df_train.shape[0]\n",
        "train_files = df_train.iloc[:train_num,0].values\n",
        "train_labels = df_train.iloc[:train_num,1].values\n",
        "print(train_labels[:20])"
      ],
      "execution_count": 8,
      "outputs": [
        {
          "output_type": "stream",
          "text": [
            "['0' '1' '1' '5' '5' '5' '3' '0' '3' '5' '3' '5' '3' '3' '1' '1' '1' '1'\n",
            " '5' '1']\n"
          ],
          "name": "stdout"
        }
      ]
    },
    {
      "cell_type": "code",
      "metadata": {
        "id": "TtQV07_cFK7Y",
        "colab_type": "code",
        "colab": {
          "base_uri": "https://localhost:8080/",
          "height": 321
        },
        "outputId": "cbf7a614-8f69-4988-edb1-b0c81da9feb1"
      },
      "source": [
        "import seaborn as sns\n",
        "g = sns.countplot(train_labels)"
      ],
      "execution_count": 9,
      "outputs": [
        {
          "output_type": "stream",
          "text": [
            "/usr/local/lib/python3.6/dist-packages/statsmodels/tools/_testing.py:19: FutureWarning: pandas.util.testing is deprecated. Use the functions in the public API at pandas.testing instead.\n",
            "  import pandas.util.testing as tm\n"
          ],
          "name": "stderr"
        },
        {
          "output_type": "display_data",
          "data": {
            "image/png": "[encoded data removed]",
            "text/plain": [
              "<Figure size 432x288 with 1 Axes>"
            ]
          },
          "metadata": {
            "tags": [],
            "needs_background": "light"
          }
        }
      ]
    },
    {
      "cell_type": "code",
      "metadata": {
        "id": "8YKcKTBabLig",
        "colab_type": "code",
        "colab": {}
      },
      "source": [
        "num_classes=6"
      ],
      "execution_count": null,
      "outputs": []
    },
    {
      "cell_type": "markdown",
      "metadata": {
        "id": "8LKk8bDUoo33",
        "colab_type": "text"
      },
      "source": [
        "## Step 5: Set up an ImageDataGenerator and a Train_generator"
      ]
    },
    {
      "cell_type": "code",
      "metadata": {
        "id": "2FglrsMfXMBC",
        "colab_type": "code",
        "colab": {}
      },
      "source": [
        "from tensorflow.keras.preprocessing.image import ImageDataGenerator\n",
        "from tensorflow.keras.applications.xception import preprocess_input\n",
        "#from tensorflow.keras.applications.inception_v3 import preprocess_input\n",
        "img_gen = ImageDataGenerator(preprocessing_function=preprocess_input)"
      ],
      "execution_count": 10,
      "outputs": []
    },
    {
      "cell_type": "code",
      "metadata": {
        "id": "gIAZ72MWSzmb",
        "colab_type": "code",
        "colab": {
          "base_uri": "https://localhost:8080/",
          "height": 50
        },
        "outputId": "5b4b975e-a6f3-4a3d-a425-d352306d2112"
      },
      "source": [
        "train_generator = img_gen.flow_from_dataframe(dataframe=df_train,\n",
        "            directory=\"train_images\",\n",
        "            x_col=\"ID\",\n",
        "            y_col=\"Label\",\n",
        "            subset=None,\n",
        "            batch_size=8,\n",
        "            shuffle=False,\n",
        "            class_mode=\"categorical\",\n",
        "            color_mode=\"rgb\",\n",
        "            target_size=(299,299))\n",
        "print(train_generator.n)"
      ],
      "execution_count": 11,
      "outputs": [
        {
          "output_type": "stream",
          "text": [
            "Found 2528 validated image filenames belonging to 6 classes.\n",
            "2528\n"
          ],
          "name": "stdout"
        }
      ]
    },
    {
      "cell_type": "code",
      "metadata": {
        "id": "CzqOQhERYbGs",
        "colab_type": "code",
        "colab": {
          "base_uri": "https://localhost:8080/",
          "height": 34
        },
        "outputId": "d4ab1815-4992-42b4-e277-3f236207b629"
      },
      "source": [
        "train_generator.class_indices"
      ],
      "execution_count": 12,
      "outputs": [
        {
          "output_type": "execute_result",
          "data": {
            "text/plain": [
              "{'0': 0, '1': 1, '2': 2, '3': 3, '4': 4, '5': 5}"
            ]
          },
          "metadata": {
            "tags": []
          },
          "execution_count": 12
        }
      ]
    },
    {
      "cell_type": "code",
      "metadata": {
        "id": "Fu7E0m3ucZCJ",
        "colab_type": "code",
        "colab": {
          "base_uri": "https://localhost:8080/",
          "height": 34
        },
        "outputId": "9904e20e-9103-4470-9198-f50d2b1982e5"
      },
      "source": [
        "if train_generator.n % train_generator.batch_size ==0:\n",
        "  step_size_train=train_generator.n//train_generator.batch_size\n",
        "else:\n",
        "  step_size_train=train_generator.n//train_generator.batch_size + 1\n",
        "print(step_size_train)"
      ],
      "execution_count": 13,
      "outputs": [
        {
          "output_type": "stream",
          "text": [
            "316\n"
          ],
          "name": "stdout"
        }
      ]
    },
    {
      "cell_type": "markdown",
      "metadata": {
        "id": "muPnI0-1fPh-",
        "colab_type": "text"
      },
      "source": [
        "## Step 6: Evaluation of pretrained models with the training set"
      ]
    },
    {
      "cell_type": "code",
      "metadata": {
        "id": "7INWr1yjaTrx",
        "colab_type": "code",
        "colab": {
          "base_uri": "https://localhost:8080/",
          "height": 138
        },
        "outputId": "67bb6d16-8d2e-4e49-bd5f-f6c91642c2b3"
      },
      "source": [
        "##Evaluation of pretrained models\n",
        "for model in models:\n",
        "    train_generator.reset()\n",
        "    model.evaluate_generator(generator=train_generator, steps=step_size_train, verbose=1)"
      ],
      "execution_count": 14,
      "outputs": [
        {
          "output_type": "stream",
          "text": [
            "WARNING:tensorflow:From <ipython-input-14-92dba17c3dc4>:4: Model.evaluate_generator (from tensorflow.python.keras.engine.training) is deprecated and will be removed in a future version.\n",
            "Instructions for updating:\n",
            "Please use Model.evaluate, which supports generators.\n",
            "316/316 [==============================] - 76s 242ms/step - loss: 0.0239 - accuracy: 0.9941\n",
            "316/316 [==============================] - 32s 102ms/step - loss: 0.0090 - accuracy: 0.9976\n",
            "316/316 [==============================] - 50s 159ms/step - loss: 0.0069 - accuracy: 0.9980\n"
          ],
          "name": "stdout"
        }
      ]
    },
    {
      "cell_type": "markdown",
      "metadata": {
        "id": "iqSU1dIJg56U",
        "colab_type": "text"
      },
      "source": [
        "## Step 7: Prediction of pretrained models with the training set"
      ]
    },
    {
      "cell_type": "code",
      "metadata": {
        "id": "ssIe24ho6oGH",
        "colab_type": "code",
        "colab": {
          "base_uri": "https://localhost:8080/",
          "height": 138
        },
        "outputId": "47e5d0dc-1b1a-499a-cd15-8f591e578143"
      },
      "source": [
        "#y_predictions = model.predict(X_train, batch_size=20)\n",
        "y_predictions_All = []\n",
        "for model in models:\n",
        "    train_generator.reset()\n",
        "    y_predictions = model.predict_generator(generator=train_generator, steps=step_size_train, verbose=1)\n",
        "    y_predictions_All.append(y_predictions)"
      ],
      "execution_count": 15,
      "outputs": [
        {
          "output_type": "stream",
          "text": [
            "WARNING:tensorflow:From <ipython-input-15-1f686040bea4>:5: Model.predict_generator (from tensorflow.python.keras.engine.training) is deprecated and will be removed in a future version.\n",
            "Instructions for updating:\n",
            "Please use Model.predict, which supports generators.\n",
            "316/316 [==============================] - 75s 238ms/step\n",
            "316/316 [==============================] - 32s 100ms/step\n",
            "316/316 [==============================] - 50s 157ms/step\n"
          ],
          "name": "stdout"
        }
      ]
    },
    {
      "cell_type": "markdown",
      "metadata": {
        "id": "3xReKVEVhH-a",
        "colab_type": "text"
      },
      "source": [
        "## Step 8: Confusion matrices of pretrained models with the training set"
      ]
    },
    {
      "cell_type": "code",
      "metadata": {
        "id": "_7sYgbRbiB8w",
        "colab_type": "code",
        "colab": {
          "base_uri": "https://localhost:8080/",
          "height": 34
        },
        "outputId": "3ad88475-222b-46b2-fb35-77776e5abc3f"
      },
      "source": [
        "labels = train_labels.astype(int)\n",
        "print(labels[:10])"
      ],
      "execution_count": 16,
      "outputs": [
        {
          "output_type": "stream",
          "text": [
            "[0 1 1 5 5 5 3 0 3 5]\n"
          ],
          "name": "stdout"
        }
      ]
    },
    {
      "cell_type": "code",
      "metadata": {
        "id": "snwxn3uEidj8",
        "colab_type": "code",
        "colab": {
          "base_uri": "https://localhost:8080/",
          "height": 319
        },
        "outputId": "5fff48e7-da92-4324-975b-b89d866e7127"
      },
      "source": [
        "from sklearn.metrics import confusion_matrix\n",
        "predicts_all = []\n",
        "for y_predictions in y_predictions_All:\n",
        "    predicts = np.argmax(y_predictions,axis=1)\n",
        "    predicts_all.append(predicts)\n",
        "    confusion=confusion_matrix(labels, predicts)\n",
        "    print(confusion)"
      ],
      "execution_count": 17,
      "outputs": [
        {
          "output_type": "stream",
          "text": [
            "[[674   0   0   0   0   0]\n",
            " [  5 482   0   3   1   1]\n",
            " [  1   0  99   0   0   0]\n",
            " [  0   0   0 376   2   0]\n",
            " [  0   0   0   2 238   0]\n",
            " [  0   0   0   0   0 644]]\n",
            "[[674   0   0   0   0   0]\n",
            " [  1 490   0   0   1   0]\n",
            " [  0   0 100   0   0   0]\n",
            " [  0   0   0 377   1   0]\n",
            " [  0   0   0   1 239   0]\n",
            " [  0   2   0   0   0 642]]\n",
            "[[674   0   0   0   0   0]\n",
            " [  1 490   0   1   0   0]\n",
            " [  0   0 100   0   0   0]\n",
            " [  0   0   0 377   1   0]\n",
            " [  0   0   0   2 238   0]\n",
            " [  0   0   0   0   0 644]]\n"
          ],
          "name": "stdout"
        }
      ]
    },
    {
      "cell_type": "markdown",
      "metadata": {
        "id": "T7-t7AH_hT2U",
        "colab_type": "text"
      },
      "source": [
        "## Step 9: Show differences of predictions between the models"
      ]
    },
    {
      "cell_type": "code",
      "metadata": {
        "id": "DVscM8Lyhxsn",
        "colab_type": "code",
        "colab": {
          "base_uri": "https://localhost:8080/",
          "height": 386
        },
        "outputId": "6074bb25-631f-4e9c-c5bf-ac2a2f7f80e6"
      },
      "source": [
        "for i in range(len(labels)):\n",
        "    label=labels[i]\n",
        "    file=train_files[i]\n",
        "    pred0=predicts_all[0][i]\n",
        "    pred1=predicts_all[1][i]\n",
        "    pred2=predicts_all[2][i]\n",
        "    if label!=pred0 or label!=pred1 or label!=pred2:\n",
        "        print(f'{file}:{label}->({pred0}, {pred1}, {pred2})')"
      ],
      "execution_count": 18,
      "outputs": [
        {
          "output_type": "stream",
          "text": [
            "train_00257.png:4->(4, 4, 3)\n",
            "train_00395.png:1->(1, 0, 1)\n",
            "train_00405.png:1->(0, 1, 0)\n",
            "train_00540.png:4->(3, 3, 3)\n",
            "train_00908.png:1->(5, 1, 1)\n",
            "train_00921.png:5->(5, 1, 5)\n",
            "train_00973.png:1->(0, 1, 1)\n",
            "train_01394.png:3->(4, 3, 3)\n",
            "train_01569.png:1->(0, 1, 1)\n",
            "train_01589.png:3->(4, 3, 3)\n",
            "train_01725.png:1->(3, 1, 3)\n",
            "train_01781.png:1->(3, 1, 1)\n",
            "train_02005.png:1->(3, 1, 1)\n",
            "train_02015.png:4->(3, 4, 4)\n",
            "train_02053.png:1->(0, 1, 1)\n",
            "train_02066.png:1->(1, 4, 1)\n",
            "train_02074.png:5->(5, 1, 5)\n",
            "train_02162.png:3->(3, 4, 3)\n",
            "train_02163.png:1->(0, 1, 1)\n",
            "train_02238.png:1->(4, 1, 1)\n",
            "train_02308.png:2->(0, 2, 2)\n",
            "train_02350.png:3->(3, 3, 4)\n"
          ],
          "name": "stdout"
        }
      ]
    },
    {
      "cell_type": "code",
      "metadata": {
        "id": "j6dHHMk8ZTn8",
        "colab_type": "code",
        "colab": {
          "base_uri": "https://localhost:8080/",
          "height": 67
        },
        "outputId": "41a3ed16-0021-43f6-83d1-0cff4ce36dc9"
      },
      "source": [
        "for i in range(len(labels)):\n",
        "    label=labels[i]\n",
        "    file=train_files[i]\n",
        "    pred0=predicts_all[0][i]\n",
        "    pred1=predicts_all[1][i]\n",
        "    pred2=predicts_all[2][i]\n",
        "    ypred0=y_predictions_All[0][i][pred0]\n",
        "    ypred1=y_predictions_All[1][i][pred1]\n",
        "    ypred2=y_predictions_All[2][i][pred2]\n",
        "    if (ypred0 < 0.95) and (ypred1 < 0.95) and (ypred2 <0.95):\n",
        "        print(f'{file}:{label}->({pred0}:{ypred0}, {pred1}:{ypred1}, {pred2}:{ypred2})')"
      ],
      "execution_count": 31,
      "outputs": [
        {
          "output_type": "stream",
          "text": [
            "train_00908.png:1->(5:0.8379673361778259, 1:0.9439351558685303, 1:0.6123632788658142)\n",
            "train_01725.png:1->(3:0.757510781288147, 1:0.9095394611358643, 3:0.6135988235473633)\n",
            "train_02129.png:4->(4:0.9362788200378418, 4:0.33983975648880005, 4:0.6728262901306152)\n"
          ],
          "name": "stdout"
        }
      ]
    },
    {
      "cell_type": "markdown",
      "metadata": {
        "id": "rQ8d6eqziZKB",
        "colab_type": "text"
      },
      "source": [
        "#(B) Visual Recheck"
      ]
    },
    {
      "cell_type": "markdown",
      "metadata": {
        "id": "8bUINvgKb8oC",
        "colab_type": "text"
      },
      "source": [
        "## Step10: Show images"
      ]
    },
    {
      "cell_type": "code",
      "metadata": {
        "id": "qs8p2dspWX2T",
        "colab_type": "code",
        "colab": {
          "base_uri": "https://localhost:8080/",
          "height": 281
        },
        "outputId": "6f254f1a-2a4a-4e1b-c6d2-d337295395c5"
      },
      "source": [
        "from tensorflow.keras.preprocessing import image\n",
        "sel = 908\n",
        "file = train_files[sel]\n",
        "label= train_labels[sel]\n",
        "pred = predicts[sel]\n",
        "img = image.load_img(\"train_images/\"+file, color_mode=\"rgb\", target_size = (299, 299))\n",
        "fig,ax=plt.subplots(1,1)\n",
        "ax.imshow(img, cmap='gray')\n",
        "ax.set_title('File:{} Label:{} Predict:{} '.format(file, label, pred))   \n",
        "plt.show()  "
      ],
      "execution_count": 30,
      "outputs": [
        {
          "output_type": "display_data",
          "data": {
            "image/png": "[encoded data removed]",
            "text/plain": [
              "<Figure size 432x288 with 1 Axes>"
            ]
          },
          "metadata": {
            "tags": [],
            "needs_background": "light"
          }
        }
      ]
    },
    {
      "cell_type": "code",
      "metadata": {
        "id": "L9VXUV_jYpGe",
        "colab_type": "code",
        "colab": {
          "base_uri": "https://localhost:8080/",
          "height": 281
        },
        "outputId": "8fdd4c42-b998-4727-a4ad-4e49d965a287"
      },
      "source": [
        "sel = 908\n",
        "file = train_files[sel]\n",
        "label= train_labels[sel]\n",
        "pred = predicts[sel]\n",
        "img = image.load_img(\"train_images/\"+file, color_mode=\"rgb\", target_size = (299, 299))\n",
        "fig,ax=plt.subplots(1,1)\n",
        "ax.imshow(img, cmap='gray')\n",
        "ax.set_title('File:{} Label:{} Predict:{} '.format(file, label, pred))   \n",
        "plt.show()  "
      ],
      "execution_count": 62,
      "outputs": [
        {
          "output_type": "display_data",
          "data": {
            "image/png": "[encoded data removed]",
            "text/plain": [
              "<Figure size 432x288 with 1 Axes>"
            ]
          },
          "metadata": {
            "tags": [],
            "needs_background": "light"
          }
        }
      ]
    },
    {
      "cell_type": "code",
      "metadata": {
        "id": "h66cKWgdhWNz",
        "colab_type": "code",
        "colab": {}
      },
      "source": [
        "grad_models=[]"
      ],
      "execution_count": 49,
      "outputs": []
    },
    {
      "cell_type": "code",
      "metadata": {
        "id": "-dMX6aU-cbVa",
        "colab_type": "code",
        "colab": {}
      },
      "source": [
        "#Model: \"inception_resnet_v2\"\n",
        "models[0].summary()"
      ],
      "execution_count": null,
      "outputs": []
    },
    {
      "cell_type": "code",
      "metadata": {
        "id": "-v65jaEtcOcn",
        "colab_type": "code",
        "colab": {}
      },
      "source": [
        "grad_model0 = Model([models[0].inputs], [models[0].get_layer('conv_7b_ac').output, models[0].output])\n",
        "grad_models.append(grad_model0)"
      ],
      "execution_count": 50,
      "outputs": []
    },
    {
      "cell_type": "code",
      "metadata": {
        "id": "x0nHDk21dVSR",
        "colab_type": "code",
        "colab": {}
      },
      "source": [
        "#Model: \"inception_v3\"\n",
        "models[1].summary()"
      ],
      "execution_count": null,
      "outputs": []
    },
    {
      "cell_type": "code",
      "metadata": {
        "id": "fWkKXbM_eSq4",
        "colab_type": "code",
        "colab": {}
      },
      "source": [
        "grad_model1 = Model([models[1].inputs], [models[1].get_layer('mixed10').output, models[1].output])\n",
        "grad_models.append(grad_model1)"
      ],
      "execution_count": 51,
      "outputs": []
    },
    {
      "cell_type": "code",
      "metadata": {
        "id": "yYzj5axIdXG1",
        "colab_type": "code",
        "colab": {}
      },
      "source": [
        "#Model: \"xception\"\n",
        "models[2].summary()"
      ],
      "execution_count": null,
      "outputs": []
    },
    {
      "cell_type": "code",
      "metadata": {
        "id": "WbyUM9Bzd60K",
        "colab_type": "code",
        "colab": {}
      },
      "source": [
        "grad_model2 = Model([models[2].inputs], [models[2].get_layer('block14_sepconv2_act').output, models[2].output])\n",
        "grad_models.append(grad_model2)"
      ],
      "execution_count": 52,
      "outputs": []
    },
    {
      "cell_type": "code",
      "metadata": {
        "id": "mW2ITYX_iBX2",
        "colab_type": "code",
        "colab": {}
      },
      "source": [
        "import cv2\n",
        "from tensorflow.keras.preprocessing.image import img_to_array\n",
        "from tensorflow.python.keras.applications.imagenet_utils import preprocess_input"
      ],
      "execution_count": 56,
      "outputs": []
    },
    {
      "cell_type": "code",
      "metadata": {
        "id": "Cl_9oSLhiD3Z",
        "colab_type": "code",
        "colab": {
          "base_uri": "https://localhost:8080/",
          "height": 275
        },
        "outputId": "12c8e9df-afbb-40d7-deb6-cc92552c3449"
      },
      "source": [
        "grad_model = grad_model0\n",
        "sel = 908\n",
        "pred= 5\n",
        "file = train_files[sel]\n",
        "label= train_labels[sel]\n",
        "img = image.load_img(\"train_images/\"+file, color_mode=\"rgb\", target_size = (299, 299))\n",
        "x = image.img_to_array(img)\n",
        "img_array = preprocess_input(x, mode = 'tf' )\n",
        "\n",
        "with tf.GradientTape() as tape:\n",
        "    conv_outputs, predictions = grad_model(np.array([img_array]))\n",
        "    loss = predictions[:, pred]\n",
        "\n",
        "output = conv_outputs[0]\n",
        "grads = tape.gradient(loss, conv_outputs)[0]\n",
        "\n",
        "gate_f = tf.cast(output > 0, 'float32')\n",
        "gate_r = tf.cast(grads > 0, 'float32')\n",
        "guided_grads = tf.cast(output > 0, 'float32') * tf.cast(grads > 0, 'float32') * grads\n",
        "\n",
        "weights = tf.reduce_mean(guided_grads, axis=(0, 1))\n",
        "\n",
        "cam = np.ones(output.shape[0: 2], dtype = np.float32)\n",
        "\n",
        "for i, w in enumerate(weights):\n",
        "    cam += w * output[:, :, i]\n",
        "\n",
        "cam = cv2.resize(cam.numpy(), (299, 299))\n",
        "cam = np.maximum(cam, 0)\n",
        "heatmap = (cam - cam.min()) / (cam.max() - cam.min())\n",
        "\n",
        "cam = cv2.applyColorMap(np.uint8(255*heatmap), cv2.COLORMAP_JET)\n",
        "# Display heatmap\n",
        "plt.matshow(cam)\n",
        "plt.show()"
      ],
      "execution_count": 61,
      "outputs": [
        {
          "output_type": "display_data",
          "data": {
            "image/png": "[encoded data removed]",
            "text/plain": [
              "<Figure size 288x288 with 1 Axes>"
            ]
          },
          "metadata": {
            "tags": [],
            "needs_background": "light"
          }
        }
      ]
    },
    {
      "cell_type": "code",
      "metadata": {
        "id": "0oZYbUNikzSJ",
        "colab_type": "code",
        "colab": {
          "base_uri": "https://localhost:8080/",
          "height": 275
        },
        "outputId": "ad136eeb-c048-48cf-fe53-50ce43cbcc1e"
      },
      "source": [
        "grad_model = grad_model1\n",
        "sel = 908\n",
        "pred= 1\n",
        "file = train_files[sel]\n",
        "label= train_labels[sel]\n",
        "img = image.load_img(\"train_images/\"+file, color_mode=\"rgb\", target_size = (299, 299))\n",
        "x = image.img_to_array(img)\n",
        "img_array = preprocess_input(x, mode = 'tf' )\n",
        "\n",
        "with tf.GradientTape() as tape:\n",
        "    conv_outputs, predictions = grad_model(np.array([img_array]))\n",
        "    loss = predictions[:, pred]\n",
        "\n",
        "output = conv_outputs[0]\n",
        "grads = tape.gradient(loss, conv_outputs)[0]\n",
        "\n",
        "gate_f = tf.cast(output > 0, 'float32')\n",
        "gate_r = tf.cast(grads > 0, 'float32')\n",
        "guided_grads = tf.cast(output > 0, 'float32') * tf.cast(grads > 0, 'float32') * grads\n",
        "\n",
        "weights = tf.reduce_mean(guided_grads, axis=(0, 1))\n",
        "\n",
        "cam = np.ones(output.shape[0: 2], dtype = np.float32)\n",
        "\n",
        "for i, w in enumerate(weights):\n",
        "    cam += w * output[:, :, i]\n",
        "\n",
        "cam = cv2.resize(cam.numpy(), (299, 299))\n",
        "cam = np.maximum(cam, 0)\n",
        "heatmap = (cam - cam.min()) / (cam.max() - cam.min())\n",
        "\n",
        "cam = cv2.applyColorMap(np.uint8(255*heatmap), cv2.COLORMAP_JET)\n",
        "# Display heatmap\n",
        "plt.matshow(cam)\n",
        "plt.show()"
      ],
      "execution_count": 64,
      "outputs": [
        {
          "output_type": "display_data",
          "data": {
            "image/png": "[encoded data removed]",
            "text/plain": [
              "<Figure size 288x288 with 1 Axes>"
            ]
          },
          "metadata": {
            "tags": [],
            "needs_background": "light"
          }
        }
      ]
    },
    {
      "cell_type": "code",
      "metadata": {
        "id": "T421HKiWkmOM",
        "colab_type": "code",
        "colab": {
          "base_uri": "https://localhost:8080/",
          "height": 275
        },
        "outputId": "42f6ab40-9bb0-48e5-db3c-9e8d7b8f8225"
      },
      "source": [
        "grad_model = grad_model2\n",
        "sel = 908\n",
        "pred= 1\n",
        "file = train_files[sel]\n",
        "label= train_labels[sel]\n",
        "img = image.load_img(\"train_images/\"+file, color_mode=\"rgb\", target_size = (299, 299))\n",
        "x = image.img_to_array(img)\n",
        "img_array = preprocess_input(x, mode = 'tf' )\n",
        "\n",
        "with tf.GradientTape() as tape:\n",
        "    conv_outputs, predictions = grad_model(np.array([img_array]))\n",
        "    loss = predictions[:, pred]\n",
        "\n",
        "output = conv_outputs[0]\n",
        "grads = tape.gradient(loss, conv_outputs)[0]\n",
        "\n",
        "gate_f = tf.cast(output > 0, 'float32')\n",
        "gate_r = tf.cast(grads > 0, 'float32')\n",
        "guided_grads = tf.cast(output > 0, 'float32') * tf.cast(grads > 0, 'float32') * grads\n",
        "\n",
        "weights = tf.reduce_mean(guided_grads, axis=(0, 1))\n",
        "\n",
        "cam = np.ones(output.shape[0: 2], dtype = np.float32)\n",
        "\n",
        "for i, w in enumerate(weights):\n",
        "    cam += w * output[:, :, i]\n",
        "\n",
        "cam = cv2.resize(cam.numpy(), (299, 299))\n",
        "cam = np.maximum(cam, 0)\n",
        "heatmap = (cam - cam.min()) / (cam.max() - cam.min())\n",
        "\n",
        "cam = cv2.applyColorMap(np.uint8(255*heatmap), cv2.COLORMAP_JET)\n",
        "# Display heatmap\n",
        "plt.matshow(cam)\n",
        "plt.show()"
      ],
      "execution_count": 65,
      "outputs": [
        {
          "output_type": "display_data",
          "data": {
            "image/png": "[encoded data removed]",
            "text/plain": [
              "<Figure size 288x288 with 1 Axes>"
            ]
          },
          "metadata": {
            "tags": [],
            "needs_background": "light"
          }
        }
      ]
    }
  ]
}