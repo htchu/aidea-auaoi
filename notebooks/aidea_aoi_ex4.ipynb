{
  "nbformat": 4,
  "nbformat_minor": 0,
  "metadata": {
    "colab": {
      "name": "aidea_aoi_ex4.ipynb",
      "provenance": [],
      "collapsed_sections": [],
      "toc_visible": true
    },
    "kernelspec": {
      "name": "python3",
      "display_name": "Python 3"
    },
    "accelerator": "GPU"
  },
  "cells": [
    {
      "cell_type": "markdown",
      "metadata": {
        "id": "pzMudVrZev4E",
        "colab_type": "text"
      },
      "source": [
        "<table width=\"100%\" border=\"3\">\n",
        "  <tbody>\n",
        "    <tr>\n",
        "      <td ><img src=\"https://aidea-web.tw/images/web/logo_white.png\" alt=\"Aidea\" width=\"400\"/></td>\n",
        "      <td align='left'><h1>Exercise 4: Ensemble Learning </h1></td>\n",
        "    </tr>\n",
        "  </tbody>\n",
        "</table>"
      ]
    },
    {
      "cell_type": "markdown",
      "metadata": {
        "id": "ZOuhb2IiDVpm",
        "colab_type": "text"
      },
      "source": [
        "# Exercise 4: Ensemble method\n",
        "https://en.wikipedia.org/wiki/Ensemble_learning\n",
        "<img src=\"https://upload.wikimedia.org/wikipedia/commons/d/de/Stacking.png\">"
      ]
    },
    {
      "cell_type": "markdown",
      "metadata": {
        "id": "PsEK_x8teJlG",
        "colab_type": "text"
      },
      "source": [
        "## Step 1: Load AIdea AOI dataset"
      ]
    },
    {
      "cell_type": "code",
      "metadata": {
        "id": "wxFk8zr9B1Xm",
        "colab_type": "code",
        "colab": {}
      },
      "source": [
        "#load AIdea AOI dataset\n",
        "from google_drive_downloader import GoogleDriveDownloader\n",
        "GoogleDriveDownloader.download_file_from_google_drive(file_id='    y_6pkMwLrg05A4f8S5dRzyu4I5j8Q',dest_path='./content', unzip=True)"
      ],
      "execution_count": null,
      "outputs": []
    },
    {
      "cell_type": "markdown",
      "metadata": {
        "id": "phPu86CAeSND",
        "colab_type": "text"
      },
      "source": [
        "## Step 2: Import python libraries"
      ]
    },
    {
      "cell_type": "code",
      "metadata": {
        "id": "OCJBD9x1Bv8n",
        "colab_type": "code",
        "colab": {}
      },
      "source": [
        "import tensorflow as tf\n",
        "print(tf.__version__)\n",
        "print(tf.config.list_physical_devices('GPU'))"
      ],
      "execution_count": null,
      "outputs": []
    },
    {
      "cell_type": "code",
      "metadata": {
        "id": "Gl5ZMXU3S_rH",
        "colab_type": "code",
        "colab": {}
      },
      "source": [
        "import numpy as np\n",
        "import matplotlib.pyplot as plt\n",
        "%matplotlib inline"
      ],
      "execution_count": null,
      "outputs": []
    },
    {
      "cell_type": "code",
      "metadata": {
        "id": "cLyRMQLrFUpY",
        "colab_type": "code",
        "colab": {}
      },
      "source": [
        "from tensorflow.keras import Sequential\n",
        "from tensorflow.keras.models import Model\n",
        "from tensorflow.keras.layers import Dense, Activation, Flatten\n",
        "from tensorflow.keras.layers import Input, Concatenate\n",
        "from tensorflow.keras.layers import Dropout, Flatten, Activation\n",
        "from tensorflow.keras.layers import Conv2D, MaxPooling2D\n",
        "from tensorflow.keras.optimizers import Adam,SGD,Adagrad,Adadelta,RMSprop"
      ],
      "execution_count": null,
      "outputs": []
    },
    {
      "cell_type": "markdown",
      "metadata": {
        "id": "RITDZUvcdLRY",
        "colab_type": "text"
      },
      "source": [
        "## Step 3: Load pretrained models:\n",
        "* m1: auaoi-InceptionResNetV2\n",
        "* m2: auaoi-InceptionV3\n",
        "* m3: auaoi-Xception"
      ]
    },
    {
      "cell_type": "code",
      "metadata": {
        "colab_type": "code",
        "id": "ftC2GYFHcal_",
        "colab": {}
      },
      "source": [
        "#load AIdea AOI trained CNN models\n",
        "from google_drive_downloader import GoogleDriveDownloader\n",
        "GoogleDriveDownloader.download_file_from_google_drive(file_id='     5v1fkLU3EC-xZCIq6mmvYkKyRUq9',dest_path='./model', unzip=True)"
      ],
      "execution_count": null,
      "outputs": []
    },
    {
      "cell_type": "code",
      "metadata": {
        "id": "BGwtzDTmjb7H",
        "colab_type": "code",
        "colab": {}
      },
      "source": [
        "model_files = ['m1.h5', 'm2.h5', 'm3.h5']\n",
        "renames = ['a', 'b', 'c']\n",
        "models = []\n",
        "for file in model_files:\n",
        "  model = tf.keras.models.load_model(file)\n",
        "  models.append(model)\n"
      ],
      "execution_count": null,
      "outputs": []
    },
    {
      "cell_type": "markdown",
      "metadata": {
        "id": "o1URIFowfHED",
        "colab_type": "text"
      },
      "source": [
        "## Step 4: read the training set"
      ]
    },
    {
      "cell_type": "code",
      "metadata": {
        "id": "pL3o453NU26h",
        "colab_type": "code",
        "colab": {}
      },
      "source": [
        "import pandas as pd\n",
        "df_train = pd.read_csv(\"       \",dtype=sss)\n",
        "print(df_train.shape)"
      ],
      "execution_count": null,
      "outputs": []
    },
    {
      "cell_type": "code",
      "metadata": {
        "id": "tuDemzs5VKFk",
        "colab_type": "code",
        "colab": {}
      },
      "source": [
        "df_train.head()"
      ],
      "execution_count": null,
      "outputs": []
    },
    {
      "cell_type": "code",
      "metadata": {
        "id": "-cVo6Gq4FApt",
        "colab_type": "code",
        "colab": {}
      },
      "source": [
        "train_files = df_train.iloc[:,0].values\n",
        "train_labels = df_train.iloc[:,1].values\n",
        "print(train_labels[:20])"
      ],
      "execution_count": null,
      "outputs": []
    },
    {
      "cell_type": "code",
      "metadata": {
        "id": "TtQV07_cFK7Y",
        "colab_type": "code",
        "colab": {}
      },
      "source": [
        "import seaborn as sns\n",
        "g = sns.countplot(train_labels)"
      ],
      "execution_count": null,
      "outputs": []
    },
    {
      "cell_type": "code",
      "metadata": {
        "id": "8YKcKTBabLig",
        "colab_type": "code",
        "colab": {}
      },
      "source": [
        "num_classes=6"
      ],
      "execution_count": null,
      "outputs": []
    },
    {
      "cell_type": "markdown",
      "metadata": {
        "id": "8LKk8bDUoo33",
        "colab_type": "text"
      },
      "source": [
        "## Step 5: Set up an ImageDataGenerator and a Train_generator"
      ]
    },
    {
      "cell_type": "code",
      "metadata": {
        "id": "2FglrsMfXMBC",
        "colab_type": "code",
        "colab": {}
      },
      "source": [
        "from tensorflow.keras.preprocessing.image import ImageDataGenerator\n",
        "from tensorflow.keras.applications.xception import preprocess_input\n",
        "#from tensorflow.keras.applications.inception_v3 import preprocess_input\n",
        "img_gen = ImageDataGenerator(preprocessing_function=pppppppppppppppp)"
      ],
      "execution_count": null,
      "outputs": []
    },
    {
      "cell_type": "code",
      "metadata": {
        "id": "gIAZ72MWSzmb",
        "colab_type": "code",
        "colab": {}
      },
      "source": [
        "train_generator = img_gen.flow_from_dataframe(dataframe=df_train,\n",
        "            directory=\"          \",\n",
        "            x_col=\"  \",\n",
        "            y_col=\"     \",\n",
        "            subset=None,\n",
        "            batch_size=8,\n",
        "            shuffle=False,\n",
        "            class_mode=\"categorical\",\n",
        "            color_mode=\"rgb\",\n",
        "            target_size=(299,299))\n",
        "print(train_generator.n)"
      ],
      "execution_count": null,
      "outputs": []
    },
    {
      "cell_type": "code",
      "metadata": {
        "id": "CzqOQhERYbGs",
        "colab_type": "code",
        "colab": {}
      },
      "source": [
        "train_generator.class_indices"
      ],
      "execution_count": null,
      "outputs": []
    },
    {
      "cell_type": "code",
      "metadata": {
        "id": "Fu7E0m3ucZCJ",
        "colab_type": "code",
        "colab": {}
      },
      "source": [
        "if train_generator.n % train_generator.batch_size ==0:\n",
        "  step_size_train=train_generator.n//train_generator.batch_size\n",
        "else:\n",
        "  step_size_train=train_generator.n//train_generator.batch_size + 1\n",
        "print(step_size_train)"
      ],
      "execution_count": null,
      "outputs": []
    },
    {
      "cell_type": "markdown",
      "metadata": {
        "id": "muPnI0-1fPh-",
        "colab_type": "text"
      },
      "source": [
        "## Step 6: Evaluation of pretrained models with the training set"
      ]
    },
    {
      "cell_type": "code",
      "metadata": {
        "id": "7INWr1yjaTrx",
        "colab_type": "code",
        "colab": {}
      },
      "source": [
        "##Evaluation of pretrained models\n",
        "for model in models:\n",
        "    train_generator.reset()\n",
        "    model.evaluate_generator(generator=          , steps=          , verbose=1)"
      ],
      "execution_count": null,
      "outputs": []
    },
    {
      "cell_type": "markdown",
      "metadata": {
        "id": "iqSU1dIJg56U",
        "colab_type": "text"
      },
      "source": [
        "## Step 7: Prediction of pretrained models with the training set"
      ]
    },
    {
      "cell_type": "code",
      "metadata": {
        "id": "ssIe24ho6oGH",
        "colab_type": "code",
        "colab": {}
      },
      "source": [
        "#y_predictions = model.predict(X_train, batch_size=20)\n",
        "y_predictions_All = []\n",
        "for model in models:\n",
        "    train_generator.reset()\n",
        "    y_predictions = model.predict_generator(generator=ttttt_generator, steps=ssssssssss, verbose=1)\n",
        "    y_predictions_All.append(y_predictions)"
      ],
      "execution_count": null,
      "outputs": []
    },
    {
      "cell_type": "markdown",
      "metadata": {
        "id": "3xReKVEVhH-a",
        "colab_type": "text"
      },
      "source": [
        "## Step 8: Confusion matrices of pretrained models with the training set"
      ]
    },
    {
      "cell_type": "code",
      "metadata": {
        "id": "_7sYgbRbiB8w",
        "colab_type": "code",
        "colab": {}
      },
      "source": [
        "labels = train_labels.astype(int)\n",
        "print(labels[:10])"
      ],
      "execution_count": null,
      "outputs": []
    },
    {
      "cell_type": "code",
      "metadata": {
        "id": "snwxn3uEidj8",
        "colab_type": "code",
        "colab": {}
      },
      "source": [
        "from sklearn.metrics import confusion_matrix\n",
        "predicts_all = []\n",
        "for y_predictions in y_predictions_All:\n",
        "    predicts = np.argmax(y_predictions,axis=1)\n",
        "    predicts_all.append(predicts)\n",
        "    confusion=confusion_matrix(labels, predicts)\n",
        "    print(confusion)"
      ],
      "execution_count": null,
      "outputs": []
    },
    {
      "cell_type": "markdown",
      "metadata": {
        "id": "T7-t7AH_hT2U",
        "colab_type": "text"
      },
      "source": [
        "## Step 9: Show differences of predictions between the models"
      ]
    },
    {
      "cell_type": "code",
      "metadata": {
        "id": "DVscM8Lyhxsn",
        "colab_type": "code",
        "colab": {}
      },
      "source": [
        "for i in range(len(labels)):\n",
        "    label=labels[i]\n",
        "    pred0=predicts_all[0][i]\n",
        "    pred1=predicts_all[1][i]\n",
        "    pred2=predicts_all[2][i]\n",
        "    if label!=pred0 or label!=pred1 or label!=pred2:\n",
        "        print(f'{label}->({pred0}, {pred1}, {pred2})')"
      ],
      "execution_count": null,
      "outputs": []
    },
    {
      "cell_type": "markdown",
      "metadata": {
        "id": "rQ8d6eqziZKB",
        "colab_type": "text"
      },
      "source": [
        "## Step 10: Ensemble predictions by indiviual models"
      ]
    },
    {
      "cell_type": "code",
      "metadata": {
        "id": "8XwwXxG1ii_1",
        "colab_type": "code",
        "colab": {}
      },
      "source": [
        "y_predictions_ensemble = y_predictions_All[0]+y_predictions_All[1]+y_predictions_All[2]\n",
        "print(y_predictions_ensemble[:2])\n",
        "type(y_predictions)"
      ],
      "execution_count": null,
      "outputs": []
    },
    {
      "cell_type": "code",
      "metadata": {
        "id": "-3LFfE8bPjOD",
        "colab_type": "code",
        "colab": {}
      },
      "source": [
        "predicts_ensemble = np.arggggg(y_predictions_ensemble,axis=1)\n",
        "print(predicts_ensemble[0:10])"
      ],
      "execution_count": null,
      "outputs": []
    },
    {
      "cell_type": "markdown",
      "metadata": {
        "id": "Pan8QU3eiyUt",
        "colab_type": "text"
      },
      "source": [
        "## Step 11: Show differences of predictions by the ensembled models"
      ]
    },
    {
      "cell_type": "code",
      "metadata": {
        "id": "kBzaPHt8i-Zv",
        "colab_type": "code",
        "colab": {}
      },
      "source": [
        "for i in range(len(labels)):\n",
        "    label=labels[i]\n",
        "    pred0=predicts_all[0][i]\n",
        "    pred1=predicts_all[1][i]\n",
        "    pred2=predicts_all[2][i]\n",
        "    predx=predicts_ensemble[i]\n",
        "    if label!=pred0 or label!=pred1 or label!=pred2:\n",
        "        print(f'{label}->({pred0}, {pred1}, {pred2})=>{predx}')"
      ],
      "execution_count": null,
      "outputs": []
    },
    {
      "cell_type": "code",
      "metadata": {
        "id": "K_QP8t7qI5Zt",
        "colab_type": "code",
        "colab": {}
      },
      "source": [
        "confusion=confusion_matrix(labels, xxxxxxxxxxxxx)\n",
        "print(confusion)"
      ],
      "execution_count": null,
      "outputs": []
    },
    {
      "cell_type": "code",
      "metadata": {
        "id": "AEwJyegWXWKW",
        "colab_type": "code",
        "colab": {}
      },
      "source": [
        "overkill= []\n",
        "underkill = []\n",
        "for i in range(train_num):\n",
        "  if labels[i] == 0 and predicts_ensemble[i] !=0:\n",
        "    overkill.append(i)\n",
        "  if labels[i] != 0 and predicts_ensemble[i] ==0:\n",
        "    underkill.append(i)\n",
        "print('# of overkill= {}; # of underkill= {} '.format(len(overkill), len(underkill)))"
      ],
      "execution_count": null,
      "outputs": []
    },
    {
      "cell_type": "markdown",
      "metadata": {
        "id": "vnxpZ8VVjgFy",
        "colab_type": "text"
      },
      "source": [
        "## Step 12: Preparing test images"
      ]
    },
    {
      "cell_type": "code",
      "metadata": {
        "id": "gH3N656tHvVF",
        "colab_type": "code",
        "colab": {}
      },
      "source": [
        "df_test = pd.read_csv(\"tttt.csv\",dtype=str)\n",
        "print(df_test.shape)"
      ],
      "execution_count": null,
      "outputs": []
    },
    {
      "cell_type": "code",
      "metadata": {
        "id": "hukndpFCnTBM",
        "colab_type": "code",
        "colab": {}
      },
      "source": [
        "df_test.head()"
      ],
      "execution_count": null,
      "outputs": []
    },
    {
      "cell_type": "code",
      "metadata": {
        "id": "26sEKiQYH2sr",
        "colab_type": "code",
        "colab": {}
      },
      "source": [
        "test_files  = df_test.iloc[:,0].values\n",
        "test_labels = df_test.iloc[:,1].values\n",
        "print(test_labels[:10])"
      ],
      "execution_count": null,
      "outputs": []
    },
    {
      "cell_type": "code",
      "metadata": {
        "id": "rjzR0cmDjPT-",
        "colab_type": "code",
        "colab": {}
      },
      "source": [
        "img_gen2 = ImageDataGenerator(horizontal_flip=False, vertical_flip=False, preprocessing_function=)\n",
        "test_generator = img_gen2.flow_from_dataframe(dataframe=df_test,\n",
        "            directory=\"xxxxxxxxxxx\",\n",
        "            x_col=\"ID\",\n",
        "            y_col=\"Label\",\n",
        "            batch_size=32,\n",
        "            shuffle=False,\n",
        "            class_mode=None,\n",
        "            target_size=(299,299))"
      ],
      "execution_count": null,
      "outputs": []
    },
    {
      "cell_type": "code",
      "metadata": {
        "id": "c3z-YfOEn0UF",
        "colab_type": "code",
        "colab": {}
      },
      "source": [
        "if test_generator.n % test_generator.batch_size ==0:\n",
        "  step_size_test=test_generator.n//test_generator.batch_size\n",
        "else:\n",
        "  step_size_test=test_generator.n//test_generator.batch_size + 1\n",
        "print(step_size_test)"
      ],
      "execution_count": null,
      "outputs": []
    },
    {
      "cell_type": "markdown",
      "metadata": {
        "id": "ZJ-0n9o430oW",
        "colab_type": "text"
      },
      "source": [
        "## Step 13: Prediction of pretrained models with the testing set"
      ]
    },
    {
      "cell_type": "code",
      "metadata": {
        "id": "p8XdXxbRmRCM",
        "colab_type": "code",
        "colab": {}
      },
      "source": [
        "#y_predictions = model.predict(X_train, batch_size=20)\n",
        "y_predictions_All = []\n",
        "for model in models:\n",
        "    test_generator.reset()\n",
        "    y_predictions = model.predict_generator(generator=tttt_generator, steps=step_size_tttt,verbose=1)\n",
        "    y_predictions_All.append(y_predictions)"
      ],
      "execution_count": null,
      "outputs": []
    },
    {
      "cell_type": "markdown",
      "metadata": {
        "id": "0zsQ-Bbv4U4j",
        "colab_type": "text"
      },
      "source": [
        "## Step 14: Ensemble Predictions"
      ]
    },
    {
      "cell_type": "code",
      "metadata": {
        "id": "apnBe7x3mfTa",
        "colab_type": "code",
        "colab": {}
      },
      "source": [
        "y_predictions_ensemble = y_predictions_All[0]+y_predictions_All[1]+y_predictions_All[2]\n",
        "y_predictions_ensemble.shape"
      ],
      "execution_count": null,
      "outputs": []
    },
    {
      "cell_type": "code",
      "metadata": {
        "id": "WrzLXes_mkNQ",
        "colab_type": "code",
        "colab": {}
      },
      "source": [
        "predicts_ensemble=np.max(y_predictions_ensemble,axis=1)"
      ],
      "execution_count": null,
      "outputs": []
    },
    {
      "cell_type": "markdown",
      "metadata": {
        "id": "1jeb2NRT4YT7",
        "colab_type": "text"
      },
      "source": [
        "## Step 15: Output the predictions"
      ]
    },
    {
      "cell_type": "code",
      "metadata": {
        "id": "0sXBA6kypHZd",
        "colab_type": "code",
        "colab": {}
      },
      "source": [
        "df_out = pd.DataFrame(df_test)\n",
        "df_out.shape"
      ],
      "execution_count": null,
      "outputs": []
    },
    {
      "cell_type": "code",
      "metadata": {
        "id": "WryvjBT8mm6J",
        "colab_type": "code",
        "colab": {}
      },
      "source": [
        "df_out['Label'] =  \n",
        "df_out.to_csv(\"0627-ensemble.csv\", index=False)"
      ],
      "execution_count": null,
      "outputs": []
    }
  ]
}