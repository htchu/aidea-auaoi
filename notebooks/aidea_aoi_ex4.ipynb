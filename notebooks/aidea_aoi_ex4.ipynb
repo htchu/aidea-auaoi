{
  "nbformat": 4,
  "nbformat_minor": 0,
  "metadata": {
    "colab": {
      "name": "aidea_aoi-ex4.ipynb",
      "provenance": [],
      "toc_visible": true
    },
    "kernelspec": {
      "name": "python3",
      "display_name": "Python 3"
    },
    "accelerator": "GPU"
  },
  "cells": [
    {
      "cell_type": "markdown",
      "metadata": {
        "id": "pzMudVrZev4E",
        "colab_type": "text"
      },
      "source": [
        "<table width=\"100%\" border=\"3\">\n",
        "  <tbody>\n",
        "    <tr>\n",
        "      <td ><img src=\"https://aidea-web.tw/images/web/logo_white.png\" alt=\"Aidea\" width=\"400\"/></td>\n",
        "      <td align='left'><h1>Exercise 4: Ensemble Learning </h1></td>\n",
        "    </tr>\n",
        "  </tbody>\n",
        "</table>"
      ]
    },
    {
      "cell_type": "markdown",
      "metadata": {
        "id": "ZOuhb2IiDVpm",
        "colab_type": "text"
      },
      "source": [
        "# Exercise 4: Ensemble method\n",
        "https://en.wikipedia.org/wiki/Ensemble_learning\n",
        "<img src=\"https://upload.wikimedia.org/wikipedia/commons/d/de/Stacking.png\">"
      ]
    },
    {
      "cell_type": "markdown",
      "metadata": {
        "id": "PsEK_x8teJlG",
        "colab_type": "text"
      },
      "source": [
        "## Step 1: Load AIdea AOI dataset"
      ]
    },
    {
      "cell_type": "code",
      "metadata": {
        "id": "wxFk8zr9B1Xm",
        "colab_type": "code",
        "colab": {
          "base_uri": "https://localhost:8080/",
          "height": 50
        },
        "outputId": "e37545ac-adca-4309-8e73-e551ae432999"
      },
      "source": [
        "#load AIdea AOI dataset\n",
        "from google_drive_downloader import GoogleDriveDownloader\n",
        "GoogleDriveDownloader.download_file_from_google_drive(file_id='1Arcy_6pkMwLrg05A4f8S5dRzyu4I5j8Q',dest_path='./content', unzip=True)"
      ],
      "execution_count": null,
      "outputs": [
        {
          "output_type": "stream",
          "text": [
            "Downloading 1Arcy_6pkMwLrg05A4f8S5dRzyu4I5j8Q into ./content... Done.\n",
            "Unzipping...Done.\n"
          ],
          "name": "stdout"
        }
      ]
    },
    {
      "cell_type": "markdown",
      "metadata": {
        "id": "phPu86CAeSND",
        "colab_type": "text"
      },
      "source": [
        "## Step 2: Import python libraries"
      ]
    },
    {
      "cell_type": "code",
      "metadata": {
        "id": "OCJBD9x1Bv8n",
        "colab_type": "code",
        "colab": {
          "base_uri": "https://localhost:8080/",
          "height": 50
        },
        "outputId": "e67636bc-2664-41a5-f16c-568c6114e329"
      },
      "source": [
        "import tensorflow as tf\n",
        "print(tf.__version__)\n",
        "print(tf.config.list_physical_devices('GPU'))"
      ],
      "execution_count": null,
      "outputs": [
        {
          "output_type": "stream",
          "text": [
            "2.2.0\n",
            "[PhysicalDevice(name='/physical_device:GPU:0', device_type='GPU')]\n"
          ],
          "name": "stdout"
        }
      ]
    },
    {
      "cell_type": "code",
      "metadata": {
        "id": "Gl5ZMXU3S_rH",
        "colab_type": "code",
        "colab": {}
      },
      "source": [
        "import numpy as np\n",
        "import matplotlib.pyplot as plt\n",
        "%matplotlib inline"
      ],
      "execution_count": null,
      "outputs": []
    },
    {
      "cell_type": "code",
      "metadata": {
        "id": "cLyRMQLrFUpY",
        "colab_type": "code",
        "colab": {}
      },
      "source": [
        "from tensorflow.keras import Sequential\n",
        "from tensorflow.keras.models import Model\n",
        "from tensorflow.keras.layers import Dense, Activation, Flatten\n",
        "from tensorflow.keras.layers import Input, Concatenate\n",
        "from tensorflow.keras.layers import Dropout, Flatten, Activation\n",
        "from tensorflow.keras.layers import Conv2D, MaxPooling2D\n",
        "from tensorflow.keras.optimizers import Adam,SGD,Adagrad,Adadelta,RMSprop"
      ],
      "execution_count": null,
      "outputs": []
    },
    {
      "cell_type": "markdown",
      "metadata": {
        "id": "RITDZUvcdLRY",
        "colab_type": "text"
      },
      "source": [
        "## Step 3: Load pretrained models:\n",
        "* m1: auaoi-InceptionResNetV2\n",
        "* m2: auaoi-InceptionV3\n",
        "* m3: auaoi-Xception"
      ]
    },
    {
      "cell_type": "code",
      "metadata": {
        "colab_type": "code",
        "id": "ftC2GYFHcal_",
        "colab": {
          "base_uri": "https://localhost:8080/",
          "height": 50
        },
        "outputId": "4300120d-d905-4dfe-af92-8dfd6f0bf68b"
      },
      "source": [
        "#load AIdea AOI trained CNN models\n",
        "from google_drive_downloader import GoogleDriveDownloader\n",
        "GoogleDriveDownloader.download_file_from_google_drive(file_id='1sh735v1fkLU3EC-xZCIq6mmvYkKyRUq9',dest_path='./model', unzip=True)"
      ],
      "execution_count": null,
      "outputs": [
        {
          "output_type": "stream",
          "text": [
            "Downloading 1sh735v1fkLU3EC-xZCIq6mmvYkKyRUq9 into ./model... Done.\n",
            "Unzipping...Done.\n"
          ],
          "name": "stdout"
        }
      ]
    },
    {
      "cell_type": "code",
      "metadata": {
        "id": "BGwtzDTmjb7H",
        "colab_type": "code",
        "colab": {}
      },
      "source": [
        "model_files = ['m1.h5', 'm2.h5', 'm3.h5']\n",
        "renames = ['a', 'b', 'c']\n",
        "models = []\n",
        "for file in model_files:\n",
        "  model = tf.keras.models.load_model(file)\n",
        "  models.append(model)\n"
      ],
      "execution_count": null,
      "outputs": []
    },
    {
      "cell_type": "markdown",
      "metadata": {
        "id": "o1URIFowfHED",
        "colab_type": "text"
      },
      "source": [
        "## Step 4: read the training set"
      ]
    },
    {
      "cell_type": "code",
      "metadata": {
        "id": "pL3o453NU26h",
        "colab_type": "code",
        "colab": {
          "base_uri": "https://localhost:8080/",
          "height": 34
        },
        "outputId": "9015fec4-5e9a-478c-8ea5-4ea7b77baae1"
      },
      "source": [
        "import pandas as pd\n",
        "df_train = pd.read_csv(\"train.csv\",dtype=str)\n",
        "print(df_train.shape)"
      ],
      "execution_count": null,
      "outputs": [
        {
          "output_type": "stream",
          "text": [
            "(2528, 2)\n"
          ],
          "name": "stdout"
        }
      ]
    },
    {
      "cell_type": "code",
      "metadata": {
        "id": "tuDemzs5VKFk",
        "colab_type": "code",
        "colab": {
          "base_uri": "https://localhost:8080/",
          "height": 195
        },
        "outputId": "afa2aef8-c433-429d-d03c-521de840f70b"
      },
      "source": [
        "df_train.head()"
      ],
      "execution_count": null,
      "outputs": [
        {
          "output_type": "execute_result",
          "data": {
            "text/html": [
              "<div>\n",
              "<style scoped>\n",
              "    .dataframe tbody tr th:only-of-type {\n",
              "        vertical-align: middle;\n",
              "    }\n",
              "\n",
              "    .dataframe tbody tr th {\n",
              "        vertical-align: top;\n",
              "    }\n",
              "\n",
              "    .dataframe thead th {\n",
              "        text-align: right;\n",
              "    }\n",
              "</style>\n",
              "<table border=\"1\" class=\"dataframe\">\n",
              "  <thead>\n",
              "    <tr style=\"text-align: right;\">\n",
              "      <th></th>\n",
              "      <th>ID</th>\n",
              "      <th>Label</th>\n",
              "    </tr>\n",
              "  </thead>\n",
              "  <tbody>\n",
              "    <tr>\n",
              "      <th>0</th>\n",
              "      <td>train_00000.png</td>\n",
              "      <td>0</td>\n",
              "    </tr>\n",
              "    <tr>\n",
              "      <th>1</th>\n",
              "      <td>train_00001.png</td>\n",
              "      <td>1</td>\n",
              "    </tr>\n",
              "    <tr>\n",
              "      <th>2</th>\n",
              "      <td>train_00002.png</td>\n",
              "      <td>1</td>\n",
              "    </tr>\n",
              "    <tr>\n",
              "      <th>3</th>\n",
              "      <td>train_00003.png</td>\n",
              "      <td>5</td>\n",
              "    </tr>\n",
              "    <tr>\n",
              "      <th>4</th>\n",
              "      <td>train_00004.png</td>\n",
              "      <td>5</td>\n",
              "    </tr>\n",
              "  </tbody>\n",
              "</table>\n",
              "</div>"
            ],
            "text/plain": [
              "                ID Label\n",
              "0  train_00000.png     0\n",
              "1  train_00001.png     1\n",
              "2  train_00002.png     1\n",
              "3  train_00003.png     5\n",
              "4  train_00004.png     5"
            ]
          },
          "metadata": {
            "tags": []
          },
          "execution_count": 12
        }
      ]
    },
    {
      "cell_type": "code",
      "metadata": {
        "id": "-cVo6Gq4FApt",
        "colab_type": "code",
        "colab": {
          "base_uri": "https://localhost:8080/",
          "height": 50
        },
        "outputId": "8036de3f-94d9-40cb-e75b-39fcab622d84"
      },
      "source": [
        "train_num = df_train.shape[0]\n",
        "train_files = df_train.iloc[:train_num,0].values\n",
        "train_labels = df_train.iloc[:train_num,1].values\n",
        "print(train_labels[:20])"
      ],
      "execution_count": null,
      "outputs": [
        {
          "output_type": "stream",
          "text": [
            "['0' '1' '1' '5' '5' '5' '3' '0' '3' '5' '3' '5' '3' '3' '1' '1' '1' '1'\n",
            " '5' '1']\n"
          ],
          "name": "stdout"
        }
      ]
    },
    {
      "cell_type": "code",
      "metadata": {
        "id": "TtQV07_cFK7Y",
        "colab_type": "code",
        "colab": {}
      },
      "source": [
        "import seaborn as sns\n",
        "g = sns.countplot(train_labels)"
      ],
      "execution_count": null,
      "outputs": []
    },
    {
      "cell_type": "code",
      "metadata": {
        "id": "8YKcKTBabLig",
        "colab_type": "code",
        "colab": {}
      },
      "source": [
        "num_classes=6"
      ],
      "execution_count": null,
      "outputs": []
    },
    {
      "cell_type": "markdown",
      "metadata": {
        "id": "8LKk8bDUoo33",
        "colab_type": "text"
      },
      "source": [
        "## Step 5: Set up an ImageDataGenerator and a Train_generator"
      ]
    },
    {
      "cell_type": "code",
      "metadata": {
        "id": "qkc9nt2dx6v6",
        "colab_type": "code",
        "colab": {}
      },
      "source": [
        ""
      ],
      "execution_count": null,
      "outputs": []
    },
    {
      "cell_type": "code",
      "metadata": {
        "id": "2FglrsMfXMBC",
        "colab_type": "code",
        "colab": {}
      },
      "source": [
        "from tensorflow.keras.preprocessing.image import ImageDataGenerator\n",
        "from tensorflow.keras.applications.xception import preprocess_input\n",
        "#from tensorflow.keras.applications.inception_v3 import preprocess_input\n",
        "img_gen = ImageDataGenerator(preprocessing_function=preprocess_input)"
      ],
      "execution_count": null,
      "outputs": []
    },
    {
      "cell_type": "code",
      "metadata": {
        "id": "gIAZ72MWSzmb",
        "colab_type": "code",
        "colab": {
          "base_uri": "https://localhost:8080/",
          "height": 34
        },
        "outputId": "cdc4d561-c783-42f0-99c7-5511903d4cd5"
      },
      "source": [
        "train_generator = img_gen.flow_from_dataframe(dataframe=df_train,\n",
        "            directory=\"train_images\",\n",
        "            x_col=\"ID\",\n",
        "            y_col=\"Label\",\n",
        "            subset=None,\n",
        "            batch_size=8,\n",
        "            shuffle=False,\n",
        "            class_mode=\"categorical\",\n",
        "            color_mode=\"rgb\",\n",
        "            target_size=(299,299))\n",
        "print(train_generator.n)"
      ],
      "execution_count": null,
      "outputs": [
        {
          "output_type": "stream",
          "text": [
            "Found 2528 validated image filenames belonging to 6 classes.\n"
          ],
          "name": "stdout"
        }
      ]
    },
    {
      "cell_type": "code",
      "metadata": {
        "id": "CzqOQhERYbGs",
        "colab_type": "code",
        "colab": {
          "base_uri": "https://localhost:8080/",
          "height": 34
        },
        "outputId": "01ab5515-2180-41dd-cffb-7a0b39b17035"
      },
      "source": [
        "train_generator.class_indices"
      ],
      "execution_count": null,
      "outputs": [
        {
          "output_type": "execute_result",
          "data": {
            "text/plain": [
              "{'0': 0, '1': 1, '2': 2, '3': 3, '4': 4, '5': 5}"
            ]
          },
          "metadata": {
            "tags": []
          },
          "execution_count": 17
        }
      ]
    },
    {
      "cell_type": "code",
      "metadata": {
        "id": "Fu7E0m3ucZCJ",
        "colab_type": "code",
        "colab": {}
      },
      "source": [
        "if train_generator.n % train_generator.batch_size ==0:\n",
        "  step_size_train=train_generator.n//train_generator.batch_size\n",
        "else:\n",
        "  step_size_train=train_generator.n//train_generator.batch_size + 1\n",
        "print(step_size_train)"
      ],
      "execution_count": null,
      "outputs": []
    },
    {
      "cell_type": "markdown",
      "metadata": {
        "id": "muPnI0-1fPh-",
        "colab_type": "text"
      },
      "source": [
        "## Step 6: Evaluation of pretrained models with the training set"
      ]
    },
    {
      "cell_type": "code",
      "metadata": {
        "id": "7INWr1yjaTrx",
        "colab_type": "code",
        "colab": {
          "base_uri": "https://localhost:8080/",
          "height": 138
        },
        "outputId": "be9767c7-6cac-4110-8dab-d0b8bb88c6d5"
      },
      "source": [
        "##Evaluation of pretrained models\n",
        "for model in models:\n",
        "    train_generator.reset()\n",
        "    model.evaluate_generator(generator=train_generator, steps=step_size_train, verbose=1)"
      ],
      "execution_count": null,
      "outputs": [
        {
          "output_type": "stream",
          "text": [
            "WARNING:tensorflow:From <ipython-input-22-92dba17c3dc4>:4: Model.evaluate_generator (from tensorflow.python.keras.engine.training) is deprecated and will be removed in a future version.\n",
            "Instructions for updating:\n",
            "Please use Model.evaluate, which supports generators.\n",
            "316/316 [==============================] - 73s 232ms/step - loss: 0.0239 - accuracy: 0.9941\n",
            "316/316 [==============================] - 31s 98ms/step - loss: 0.0090 - accuracy: 0.9976\n",
            "316/316 [==============================] - 47s 148ms/step - loss: 0.0069 - accuracy: 0.9980\n"
          ],
          "name": "stdout"
        }
      ]
    },
    {
      "cell_type": "markdown",
      "metadata": {
        "id": "iqSU1dIJg56U",
        "colab_type": "text"
      },
      "source": [
        "## Step 7: Prediction of pretrained models with the training set"
      ]
    },
    {
      "cell_type": "code",
      "metadata": {
        "id": "ssIe24ho6oGH",
        "colab_type": "code",
        "colab": {
          "base_uri": "https://localhost:8080/",
          "height": 138
        },
        "outputId": "e4b4cd38-39af-44a6-94bc-51175bab424a"
      },
      "source": [
        "#y_predictions = model.predict(X_train, batch_size=20)\n",
        "y_predictions_All = []\n",
        "for model in models:\n",
        "    train_generator.reset()\n",
        "    y_predictions = model.predict_generator(generator=train_generator, steps=step_size_train, verbose=1)\n",
        "    y_predictions_All.append(y_predictions)"
      ],
      "execution_count": null,
      "outputs": [
        {
          "output_type": "stream",
          "text": [
            "WARNING:tensorflow:From <ipython-input-23-1f686040bea4>:5: Model.predict_generator (from tensorflow.python.keras.engine.training) is deprecated and will be removed in a future version.\n",
            "Instructions for updating:\n",
            "Please use Model.predict, which supports generators.\n",
            "316/316 [==============================] - 71s 224ms/step\n",
            "316/316 [==============================] - 30s 95ms/step\n",
            "316/316 [==============================] - 46s 145ms/step\n"
          ],
          "name": "stdout"
        }
      ]
    },
    {
      "cell_type": "markdown",
      "metadata": {
        "id": "3xReKVEVhH-a",
        "colab_type": "text"
      },
      "source": [
        "## Step 8: Confusion matrices of pretrained models with the training set"
      ]
    },
    {
      "cell_type": "code",
      "metadata": {
        "id": "_7sYgbRbiB8w",
        "colab_type": "code",
        "colab": {
          "base_uri": "https://localhost:8080/",
          "height": 34
        },
        "outputId": "764fddf6-3868-4843-e50d-293f1c049df7"
      },
      "source": [
        "labels = train_labels.astype(int)\n",
        "print(labels[:10])"
      ],
      "execution_count": null,
      "outputs": [
        {
          "output_type": "stream",
          "text": [
            "[0 1 1 5 5 5 3 0 3 5]\n"
          ],
          "name": "stdout"
        }
      ]
    },
    {
      "cell_type": "code",
      "metadata": {
        "id": "snwxn3uEidj8",
        "colab_type": "code",
        "colab": {
          "base_uri": "https://localhost:8080/",
          "height": 319
        },
        "outputId": "edf6ec78-3c5f-455a-89ec-e4f719ed1d2d"
      },
      "source": [
        "from sklearn.metrics import confusion_matrix\n",
        "predicts_all = []\n",
        "for y_predictions in y_predictions_All:\n",
        "    predicts = np.argmax(y_predictions,axis=1)\n",
        "    predicts_all.append(predicts)\n",
        "    confusion=confusion_matrix(labels, predicts)\n",
        "    print(confusion)"
      ],
      "execution_count": null,
      "outputs": [
        {
          "output_type": "stream",
          "text": [
            "[[674   0   0   0   0   0]\n",
            " [  5 482   0   3   1   1]\n",
            " [  1   0  99   0   0   0]\n",
            " [  0   0   0 376   2   0]\n",
            " [  0   0   0   2 238   0]\n",
            " [  0   0   0   0   0 644]]\n",
            "[[674   0   0   0   0   0]\n",
            " [  1 490   0   0   1   0]\n",
            " [  0   0 100   0   0   0]\n",
            " [  0   0   0 377   1   0]\n",
            " [  0   0   0   1 239   0]\n",
            " [  0   2   0   0   0 642]]\n",
            "[[674   0   0   0   0   0]\n",
            " [  1 490   0   1   0   0]\n",
            " [  0   0 100   0   0   0]\n",
            " [  0   0   0 377   1   0]\n",
            " [  0   0   0   2 238   0]\n",
            " [  0   0   0   0   0 644]]\n"
          ],
          "name": "stdout"
        }
      ]
    },
    {
      "cell_type": "markdown",
      "metadata": {
        "id": "T7-t7AH_hT2U",
        "colab_type": "text"
      },
      "source": [
        "## Step 9: Show differences of predictions between the models"
      ]
    },
    {
      "cell_type": "code",
      "metadata": {
        "id": "DVscM8Lyhxsn",
        "colab_type": "code",
        "colab": {
          "base_uri": "https://localhost:8080/",
          "height": 386
        },
        "outputId": "bb21ff0c-f342-49ce-de86-968faf0d65ec"
      },
      "source": [
        "for i in range(len(labels)):\n",
        "    label=labels[i]\n",
        "    pred0=predicts_all[0][i]\n",
        "    pred1=predicts_all[1][i]\n",
        "    pred2=predicts_all[2][i]\n",
        "    if label!=pred0 or label!=pred1 or label!=pred2:\n",
        "        print(f'{label}->({pred0}, {pred1}, {pred2})')"
      ],
      "execution_count": null,
      "outputs": [
        {
          "output_type": "stream",
          "text": [
            "4->(4, 4, 3)\n",
            "1->(1, 0, 1)\n",
            "1->(0, 1, 0)\n",
            "4->(3, 3, 3)\n",
            "1->(5, 1, 1)\n",
            "5->(5, 1, 5)\n",
            "1->(0, 1, 1)\n",
            "3->(4, 3, 3)\n",
            "1->(0, 1, 1)\n",
            "3->(4, 3, 3)\n",
            "1->(3, 1, 3)\n",
            "1->(3, 1, 1)\n",
            "1->(3, 1, 1)\n",
            "4->(3, 4, 4)\n",
            "1->(0, 1, 1)\n",
            "1->(1, 4, 1)\n",
            "5->(5, 1, 5)\n",
            "3->(3, 4, 3)\n",
            "1->(0, 1, 1)\n",
            "1->(4, 1, 1)\n",
            "2->(0, 2, 2)\n",
            "3->(3, 3, 4)\n"
          ],
          "name": "stdout"
        }
      ]
    },
    {
      "cell_type": "markdown",
      "metadata": {
        "id": "rQ8d6eqziZKB",
        "colab_type": "text"
      },
      "source": [
        "## Step 10: Ensemble predictions by indiviual models"
      ]
    },
    {
      "cell_type": "code",
      "metadata": {
        "id": "8XwwXxG1ii_1",
        "colab_type": "code",
        "colab": {
          "base_uri": "https://localhost:8080/",
          "height": 101
        },
        "outputId": "71a49de8-89fa-4066-dbbd-81f1510bcc02"
      },
      "source": [
        "y_predictions_ensemble = y_predictions_All[0]+y_predictions_All[1]+y_predictions_All[2]\n",
        "print(y_predictions_ensemble[:2])\n",
        "type(y_predictions)"
      ],
      "execution_count": null,
      "outputs": [
        {
          "output_type": "stream",
          "text": [
            "[[2.9977081e+00 2.6643804e-05 2.0590229e-03 2.0168223e-04 4.4715466e-06\n",
            "  3.2687109e-09]\n",
            " [4.1103329e-11 2.9999866e+00 1.3372697e-05 3.4153191e-10 7.0617383e-09\n",
            "  1.2877229e-08]]\n"
          ],
          "name": "stdout"
        },
        {
          "output_type": "execute_result",
          "data": {
            "text/plain": [
              "numpy.ndarray"
            ]
          },
          "metadata": {
            "tags": []
          },
          "execution_count": 28
        }
      ]
    },
    {
      "cell_type": "code",
      "metadata": {
        "id": "-3LFfE8bPjOD",
        "colab_type": "code",
        "colab": {
          "base_uri": "https://localhost:8080/",
          "height": 34
        },
        "outputId": "4b3f2f54-b448-4856-b937-f04fe6c29997"
      },
      "source": [
        "predicts_ensemble = np.argmax(y_predictions_ensemble,axis=1)\n",
        "print(predicts_ensemble[0:10])"
      ],
      "execution_count": null,
      "outputs": [
        {
          "output_type": "stream",
          "text": [
            "[0 1 1 5 5 5 3 0 3 5]\n"
          ],
          "name": "stdout"
        }
      ]
    },
    {
      "cell_type": "markdown",
      "metadata": {
        "id": "Pan8QU3eiyUt",
        "colab_type": "text"
      },
      "source": [
        "## Step 11: Show differences of predictions by the ensembled models"
      ]
    },
    {
      "cell_type": "code",
      "metadata": {
        "id": "kBzaPHt8i-Zv",
        "colab_type": "code",
        "colab": {
          "base_uri": "https://localhost:8080/",
          "height": 386
        },
        "outputId": "b93925ad-9d96-4668-df88-b3b8b2dd4b2b"
      },
      "source": [
        "for i in range(len(labels)):\n",
        "    label=labels[i]\n",
        "    pred0=predicts_all[0][i]\n",
        "    pred1=predicts_all[1][i]\n",
        "    pred2=predicts_all[2][i]\n",
        "    predx=predicts_ensemble[i]\n",
        "    if label!=pred0 or label!=pred1 or label!=pred2:\n",
        "        print(f'{label}->({pred0}, {pred1}, {pred2})=>{predx}')"
      ],
      "execution_count": null,
      "outputs": [
        {
          "output_type": "stream",
          "text": [
            "4->(4, 4, 3)=>4\n",
            "1->(1, 0, 1)=>1\n",
            "1->(0, 1, 0)=>0\n",
            "4->(3, 3, 3)=>3\n",
            "1->(5, 1, 1)=>1\n",
            "5->(5, 1, 5)=>5\n",
            "1->(0, 1, 1)=>1\n",
            "3->(4, 3, 3)=>3\n",
            "1->(0, 1, 1)=>1\n",
            "3->(4, 3, 3)=>3\n",
            "1->(3, 1, 3)=>3\n",
            "1->(3, 1, 1)=>1\n",
            "1->(3, 1, 1)=>1\n",
            "4->(3, 4, 4)=>4\n",
            "1->(0, 1, 1)=>1\n",
            "1->(1, 4, 1)=>1\n",
            "5->(5, 1, 5)=>5\n",
            "3->(3, 4, 3)=>3\n",
            "1->(0, 1, 1)=>1\n",
            "1->(4, 1, 1)=>1\n",
            "2->(0, 2, 2)=>2\n",
            "3->(3, 3, 4)=>3\n"
          ],
          "name": "stdout"
        }
      ]
    },
    {
      "cell_type": "code",
      "metadata": {
        "id": "K_QP8t7qI5Zt",
        "colab_type": "code",
        "colab": {
          "base_uri": "https://localhost:8080/",
          "height": 118
        },
        "outputId": "8f56ad9c-f096-41e0-8055-ce4555985ae3"
      },
      "source": [
        "confusion=confusion_matrix(labels, predicts_ensemble)\n",
        "print(confusion)"
      ],
      "execution_count": null,
      "outputs": [
        {
          "output_type": "stream",
          "text": [
            "[[674   0   0   0   0   0]\n",
            " [  1 490   0   1   0   0]\n",
            " [  0   0 100   0   0   0]\n",
            " [  0   0   0 378   0   0]\n",
            " [  0   0   0   1 239   0]\n",
            " [  0   0   0   0   0 644]]\n"
          ],
          "name": "stdout"
        }
      ]
    },
    {
      "cell_type": "code",
      "metadata": {
        "id": "AEwJyegWXWKW",
        "colab_type": "code",
        "colab": {
          "base_uri": "https://localhost:8080/",
          "height": 34
        },
        "outputId": "60ea4697-7d1a-4099-fd5f-2ed84fc02439"
      },
      "source": [
        "overkill= []\n",
        "underkill = []\n",
        "for i in range(train_num):\n",
        "  if labels[i] == 0 and predicts_ensemble[i] !=0:\n",
        "    overkill.append(i)\n",
        "  if labels[i] != 0 and predicts_ensemble[i] ==0:\n",
        "    underkill.append(i)\n",
        "print('# of overkill= {}; # of underkill= {} '.format(len(overkill), len(underkill)))"
      ],
      "execution_count": null,
      "outputs": [
        {
          "output_type": "stream",
          "text": [
            "# of overkill= 0; # of underkill= 1 \n"
          ],
          "name": "stdout"
        }
      ]
    },
    {
      "cell_type": "markdown",
      "metadata": {
        "id": "vnxpZ8VVjgFy",
        "colab_type": "text"
      },
      "source": [
        "## Step 12: Preparing test images"
      ]
    },
    {
      "cell_type": "code",
      "metadata": {
        "id": "gH3N656tHvVF",
        "colab_type": "code",
        "colab": {
          "base_uri": "https://localhost:8080/",
          "height": 34
        },
        "outputId": "cd739857-bf43-4766-a932-2d9f6e49ffe9"
      },
      "source": [
        "df_test = pd.read_csv(\"test.csv\",dtype=str)\n",
        "print(df_test.shape)"
      ],
      "execution_count": null,
      "outputs": [
        {
          "output_type": "stream",
          "text": [
            "(10142, 2)\n"
          ],
          "name": "stdout"
        }
      ]
    },
    {
      "cell_type": "code",
      "metadata": {
        "id": "hukndpFCnTBM",
        "colab_type": "code",
        "colab": {}
      },
      "source": [
        "df_test.head()"
      ],
      "execution_count": null,
      "outputs": []
    },
    {
      "cell_type": "code",
      "metadata": {
        "id": "26sEKiQYH2sr",
        "colab_type": "code",
        "colab": {
          "base_uri": "https://localhost:8080/",
          "height": 34
        },
        "outputId": "fafff69c-c54e-40b1-c2ba-f6436119ee8d"
      },
      "source": [
        "test_num = df_test.shape[0]\n",
        "test_files  = df_test.iloc[:test_num,0].values\n",
        "test_labels = df_test.iloc[:test_num,1].values\n",
        "print(test_labels[:10])"
      ],
      "execution_count": null,
      "outputs": [
        {
          "output_type": "stream",
          "text": [
            "[nan nan nan nan nan nan nan nan nan nan]\n"
          ],
          "name": "stdout"
        }
      ]
    },
    {
      "cell_type": "code",
      "metadata": {
        "id": "rjzR0cmDjPT-",
        "colab_type": "code",
        "colab": {
          "base_uri": "https://localhost:8080/",
          "height": 34
        },
        "outputId": "d98f5c5b-c11d-4deb-d927-cb0021af977d"
      },
      "source": [
        "img_gen2 = ImageDataGenerator(horizontal_flip=False, vertical_flip=False, preprocessing_function=preprocess_input)\n",
        "test_generator = img_gen2.flow_from_dataframe(dataframe=df_test,\n",
        "            directory=\"test_images\",\n",
        "            x_col=\"ID\",\n",
        "            y_col=\"Label\",\n",
        "            batch_size=32,\n",
        "            shuffle=False,\n",
        "            class_mode=None,\n",
        "            target_size=(299,299))"
      ],
      "execution_count": null,
      "outputs": [
        {
          "output_type": "stream",
          "text": [
            "Found 10142 validated image filenames.\n"
          ],
          "name": "stdout"
        }
      ]
    },
    {
      "cell_type": "code",
      "metadata": {
        "id": "c3z-YfOEn0UF",
        "colab_type": "code",
        "colab": {
          "base_uri": "https://localhost:8080/",
          "height": 34
        },
        "outputId": "58e8249d-a6c8-422b-8aa5-39fb2e674fa9"
      },
      "source": [
        "if test_generator.n % test_generator.batch_size ==0:\n",
        "  step_size_test=test_generator.n//test_generator.batch_size\n",
        "else:\n",
        "  step_size_test=test_generator.n//test_generator.batch_size + 1\n",
        "print(step_size_test)"
      ],
      "execution_count": null,
      "outputs": [
        {
          "output_type": "stream",
          "text": [
            "317\n"
          ],
          "name": "stdout"
        }
      ]
    },
    {
      "cell_type": "markdown",
      "metadata": {
        "id": "ZJ-0n9o430oW",
        "colab_type": "text"
      },
      "source": [
        "## Step 13: Prediction of pretrained models with the testing set"
      ]
    },
    {
      "cell_type": "code",
      "metadata": {
        "id": "p8XdXxbRmRCM",
        "colab_type": "code",
        "colab": {
          "base_uri": "https://localhost:8080/",
          "height": 67
        },
        "outputId": "21991705-813a-466a-88cc-8fd80cfd8548"
      },
      "source": [
        "#y_predictions = model.predict(X_train, batch_size=20)\n",
        "y_predictions_All = []\n",
        "for model in models:\n",
        "    test_generator.reset()\n",
        "    y_predictions = model.predict_generator(generator=test_generator, steps=step_size_test,verbose=1)\n",
        "    y_predictions_All.append(y_predictions)"
      ],
      "execution_count": null,
      "outputs": [
        {
          "output_type": "stream",
          "text": [
            "317/317 [==============================] - 221s 696ms/step\n",
            "317/317 [==============================] - 84s 265ms/step\n",
            "317/317 [==============================] - 168s 529ms/step\n"
          ],
          "name": "stdout"
        }
      ]
    },
    {
      "cell_type": "markdown",
      "metadata": {
        "id": "0zsQ-Bbv4U4j",
        "colab_type": "text"
      },
      "source": [
        "## Step 14: Ensemble Predictions"
      ]
    },
    {
      "cell_type": "code",
      "metadata": {
        "id": "apnBe7x3mfTa",
        "colab_type": "code",
        "colab": {
          "base_uri": "https://localhost:8080/",
          "height": 34
        },
        "outputId": "1adadb9e-4805-4cdc-82b3-3811cb7f520f"
      },
      "source": [
        "y_predictions_ensemble = y_predictions_All[0]+y_predictions_All[1]+y_predictions_All[2]\n",
        "y_predictions_ensemble.shape"
      ],
      "execution_count": null,
      "outputs": [
        {
          "output_type": "execute_result",
          "data": {
            "text/plain": [
              "(10142, 6)"
            ]
          },
          "metadata": {
            "tags": []
          },
          "execution_count": 41
        }
      ]
    },
    {
      "cell_type": "code",
      "metadata": {
        "id": "WrzLXes_mkNQ",
        "colab_type": "code",
        "colab": {}
      },
      "source": [
        "predicts_ensemble=np.argmax(y_predictions_ensemble,axis=1)"
      ],
      "execution_count": null,
      "outputs": []
    },
    {
      "cell_type": "markdown",
      "metadata": {
        "id": "1jeb2NRT4YT7",
        "colab_type": "text"
      },
      "source": [
        "## Step 15: Output the predictions"
      ]
    },
    {
      "cell_type": "code",
      "metadata": {
        "id": "0sXBA6kypHZd",
        "colab_type": "code",
        "colab": {
          "base_uri": "https://localhost:8080/",
          "height": 34
        },
        "outputId": "c1ad615c-7b8a-492c-d10f-aec5dd34e517"
      },
      "source": [
        "df_out = pd.DataFrame(df_test)\n",
        "df_out.shape"
      ],
      "execution_count": null,
      "outputs": [
        {
          "output_type": "execute_result",
          "data": {
            "text/plain": [
              "(10142, 2)"
            ]
          },
          "metadata": {
            "tags": []
          },
          "execution_count": 43
        }
      ]
    },
    {
      "cell_type": "code",
      "metadata": {
        "id": "WryvjBT8mm6J",
        "colab_type": "code",
        "colab": {}
      },
      "source": [
        "df_out['Label'] = predicts_ensemble\n",
        "df_out.to_csv(\"0627-ensemble.csv\", index=False)"
      ],
      "execution_count": null,
      "outputs": []
    }
  ]
}